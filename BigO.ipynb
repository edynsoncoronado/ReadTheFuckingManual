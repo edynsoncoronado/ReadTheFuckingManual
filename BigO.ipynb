{
  "nbformat": 4,
  "nbformat_minor": 0,
  "metadata": {
    "colab": {
      "name": "Untitled0.ipynb",
      "provenance": [],
      "authorship_tag": "ABX9TyNE+VX8WcRxuwQnaZHHRVBo",
      "include_colab_link": true
    },
    "kernelspec": {
      "name": "python3",
      "display_name": "Python 3"
    }
  },
  "cells": [
    {
      "cell_type": "markdown",
      "metadata": {
        "id": "view-in-github",
        "colab_type": "text"
      },
      "source": [
        "<a href=\"https://colab.research.google.com/github/edynsoncoronado/ReadTheFuckingManual/blob/master/BigO.ipynb\" target=\"_parent\"><img src=\"https://colab.research.google.com/assets/colab-badge.svg\" alt=\"Open In Colab\"/></a>"
      ]
    },
    {
      "cell_type": "code",
      "metadata": {
        "id": "RqzrNb3zj_Tz",
        "colab_type": "code",
        "colab": {}
      },
      "source": [
        "def sum1(n):\n",
        "  final_sum = 0\n",
        "  for x in range(n+1):\n",
        "    final_sum += x\n",
        "  return final_sum"
      ],
      "execution_count": 3,
      "outputs": []
    },
    {
      "cell_type": "code",
      "metadata": {
        "id": "M3F4uK2JkZuI",
        "colab_type": "code",
        "colab": {
          "base_uri": "https://localhost:8080/",
          "height": 34
        },
        "outputId": "ec1fd1d1-e067-461e-e2ff-8787187c0734"
      },
      "source": [
        "sum1(5)"
      ],
      "execution_count": 4,
      "outputs": [
        {
          "output_type": "execute_result",
          "data": {
            "text/plain": [
              "15"
            ]
          },
          "metadata": {
            "tags": []
          },
          "execution_count": 4
        }
      ]
    },
    {
      "cell_type": "code",
      "metadata": {
        "id": "XiqA1px4kbU-",
        "colab_type": "code",
        "colab": {}
      },
      "source": [
        "def sum2(n):\n",
        "  return (n*(n+1)/2)\n"
      ],
      "execution_count": 5,
      "outputs": []
    },
    {
      "cell_type": "code",
      "metadata": {
        "id": "STd-QIzxzGvq",
        "colab_type": "code",
        "colab": {
          "base_uri": "https://localhost:8080/",
          "height": 34
        },
        "outputId": "6a5e952f-07de-4304-dd3e-fcbec67a1b8c"
      },
      "source": [
        "sum2(5)"
      ],
      "execution_count": 6,
      "outputs": [
        {
          "output_type": "execute_result",
          "data": {
            "text/plain": [
              "15.0"
            ]
          },
          "metadata": {
            "tags": []
          },
          "execution_count": 6
        }
      ]
    },
    {
      "cell_type": "code",
      "metadata": {
        "id": "zwW-ZQKZzItq",
        "colab_type": "code",
        "colab": {
          "base_uri": "https://localhost:8080/",
          "height": 34
        },
        "outputId": "b70f0566-7976-4149-995e-d6713131078e"
      },
      "source": [
        "# built in magic commands in notebook\n",
        "# result is microseconds\n",
        "%timeit sum1(100)"
      ],
      "execution_count": 7,
      "outputs": [
        {
          "output_type": "stream",
          "text": [
            "100000 loops, best of 3: 4.17 µs per loop\n"
          ],
          "name": "stdout"
        }
      ]
    },
    {
      "cell_type": "code",
      "metadata": {
        "id": "hU3S5fF4zVr4",
        "colab_type": "code",
        "colab": {
          "base_uri": "https://localhost:8080/",
          "height": 52
        },
        "outputId": "cdc4f965-4396-4c93-d971-186d9940cc79"
      },
      "source": [
        "%timeit sum2(100)     \n",
        "# order is nanoseconds per loop"
      ],
      "execution_count": 8,
      "outputs": [
        {
          "output_type": "stream",
          "text": [
            "The slowest run took 20.60 times longer than the fastest. This could mean that an intermediate result is being cached.\n",
            "10000000 loops, best of 3: 120 ns per loop\n"
          ],
          "name": "stdout"
        }
      ]
    },
    {
      "cell_type": "markdown",
      "metadata": {
        "id": "IFWxZ_jH0prr",
        "colab_type": "text"
      },
      "source": [
        "  - MICRO=10^6\n",
        "  - NANO=10^9\n",
        "\n",
        "  Smaller number is obviously faster\n",
        "  -cannot simply rely on time to run because all computers are different and some faster than others.\n",
        "  - to be hardware independent != Big O\n",
        "\n"
      ]
    },
    {
      "cell_type": "markdown",
      "metadata": {
        "id": "olr8TZeN1GFB",
        "colab_type": "text"
      },
      "source": [
        "Big-O notation describes how quickly runtime will grow relative to the input as the input get arbitrarily large."
      ]
    },
    {
      "cell_type": "markdown",
      "metadata": {
        "id": "KOP93jic1P2o",
        "colab_type": "text"
      },
      "source": [
        "Remember, we want to compare how quickly runtime will grow, not compare exact runtimes, since those can vary depending on hardware.\n",
        "\n",
        "Big-O analysis is also known as **asymtotic analysis**.\n",
        "\n",
        "In math, asymptotic analysis = **describing limiting behavior**"
      ]
    },
    {
      "cell_type": "markdown",
      "metadata": {
        "id": "bEZN3SHb2Fuj",
        "colab_type": "text"
      },
      "source": [
        "<table>\n",
        "<tr>\n",
        "  <td>\n",
        "    <b>BigO</b>\n",
        "  </td>\n",
        "  <td>\n",
        "    <b>Name</b>\n",
        "  </td>\n",
        "</tr>\n",
        "<tr>\n",
        "  <td>\n",
        "    1\n",
        "  </td>\n",
        "  <td>\n",
        "    Constant\n",
        "  </td>\n",
        "</tr>\n",
        "<tr>\n",
        "  <td>\n",
        "    log(n)\n",
        "  </td>\n",
        "  <td>\n",
        "    Logarithmic\n",
        "  </td>\n",
        "</tr>\n",
        "<tr>\n",
        "  <td>\n",
        "    n\n",
        "  </td>\n",
        "  <td>\n",
        "    Linear\n",
        "  </td>\n",
        "</tr>\n",
        "<tr>\n",
        "  <td>\n",
        "    nlog(n)\n",
        "  </td>\n",
        "  <td>\n",
        "    Log Linear\n",
        "  </td>\n",
        "</tr>\n",
        "<tr>\n",
        "  <td>\n",
        "    n^2\n",
        "  </td>\n",
        "  <td>\n",
        "    Quadratic\n",
        "  </td>\n",
        "</tr>\n",
        "<tr>\n",
        "  <td>\n",
        "    n^3\n",
        "  </td>\n",
        "  <td>\n",
        "    Cubic\n",
        "  </td>\n",
        "</tr>\n",
        "<tr>\n",
        "  <td>\n",
        "    2^n\n",
        "  </td>\n",
        "  <td>\n",
        "    Expoential\n",
        "  </td>\n",
        "</tr>\n",
        "</table>"
      ]
    },
    {
      "cell_type": "code",
      "metadata": {
        "id": "8p1wvJ4e7xcy",
        "colab_type": "code",
        "colab": {
          "base_uri": "https://localhost:8080/",
          "height": 626
        },
        "outputId": "94f466e5-8f96-4219-b9d9-05daf2a267c7"
      },
      "source": [
        "from math import log\n",
        "import numpy as np\n",
        "import matplotlib.pyplot as plt\n",
        "%matplotlib inline\n",
        "plt.style.use('bmh')\n",
        "\n",
        "# Set up runtime comparisons\n",
        "n = np.linspace(1, 10)\n",
        "labels = ['Constant', 'Logarithmic', 'Linear', 'Log Linear', 'Quadratic', 'Cubic', 'Exponential']\n",
        "big_o = [np.ones(n.shape), np.log(n), n, n*np.log(n), n**2, n**3, 2**n]\n",
        "\n",
        "# Plot setup\n",
        "plt.figure(figsize=(12, 10))\n",
        "plt.ylim(0,50)\n",
        "\n",
        "for i in range(len(big_o)):\n",
        "  plt.plot(n, big_o[i], label=labels[i])\n",
        "\n",
        "plt.legend(loc=0)\n",
        "plt.ylabel('Relative Runtime')\n",
        "plt.xlabel('n')"
      ],
      "execution_count": 10,
      "outputs": [
        {
          "output_type": "execute_result",
          "data": {
            "text/plain": [
              "Text(0.5, 0, 'n')"
            ]
          },
          "metadata": {
            "tags": []
          },
          "execution_count": 10
        },
        {
          "output_type": "display_data",
          "data": {
            "image/png": "[encoded data removed]",
            "text/plain": [
              "<Figure size 864x720 with 1 Axes>"
            ]
          },
          "metadata": {
            "tags": [],
            "needs_background": "light"
          }
        }
      ]
    },
    {
      "cell_type": "markdown",
      "metadata": {
        "id": "OrTm2mVo97H3",
        "colab_type": "text"
      },
      "source": [
        "<h2><b>Big O Examples</b></h2>\n",
        "\n",
        "**O(1) Constant**  \n",
        "It does not matter how large my values list becomes, the function will only grab the indexed position 0 in that list."
      ]
    },
    {
      "cell_type": "markdown",
      "metadata": {
        "id": "oOvxlF0a-pQT",
        "colab_type": "text"
      },
      "source": [
        "**O(n) Linear**  \n",
        "Every value will print for the list, each time, so the larger the list gets the larger the BigO."
      ]
    },
    {
      "cell_type": "code",
      "metadata": {
        "id": "dwm3LYWr_BF2",
        "colab_type": "code",
        "colab": {
          "base_uri": "https://localhost:8080/",
          "height": 69
        },
        "outputId": "5cc31ffc-14d3-4857-f98d-fe273b8e4688"
      },
      "source": [
        "def func_lin(lst):\n",
        "  for val in lst:\n",
        "    print(val)\n",
        "\n",
        "func_lin([1, 2, 3])"
      ],
      "execution_count": 12,
      "outputs": [
        {
          "output_type": "stream",
          "text": [
            "1\n",
            "2\n",
            "3\n"
          ],
          "name": "stdout"
        }
      ]
    },
    {
      "cell_type": "markdown",
      "metadata": {
        "id": "tFrREGG5_UYs",
        "colab_type": "text"
      },
      "source": [
        "**O(n^2) Quatratic**  \n",
        "- two loops, one nested inside another.\n",
        "- for a list of n items, we will have to perfom n operations for every item in the list! THis means in total, we will perform n items n assignments, or n^2. So a list of 10 items will have 10^2, or 100 operations. You can see how dnagerous this can get for very large inputs! THis is why Big-O is so important to be aware of!\n",
        "- hence, the input of 3 gives us 9 outputs iterations."
      ]
    },
    {
      "cell_type": "code",
      "metadata": {
        "id": "cilFZl8-ANxV",
        "colab_type": "code",
        "colab": {
          "base_uri": "https://localhost:8080/",
          "height": 173
        },
        "outputId": "073180eb-fb51-4e15-8cdd-7c5ebdd961e0"
      },
      "source": [
        "def func_quad(lst):\n",
        "  for item_1 in lst:\n",
        "    for item_2 in lst:\n",
        "      print(item_1, item_2)\n",
        "\n",
        "lst = [1, 2, 3]\n",
        "func_quad(lst)"
      ],
      "execution_count": 14,
      "outputs": [
        {
          "output_type": "stream",
          "text": [
            "1 1\n",
            "1 2\n",
            "1 3\n",
            "2 1\n",
            "2 2\n",
            "2 3\n",
            "3 1\n",
            "3 2\n",
            "3 3\n"
          ],
          "name": "stdout"
        }
      ]
    },
    {
      "cell_type": "markdown",
      "metadata": {
        "id": "u5LDSHy-Bkzi",
        "colab_type": "text"
      },
      "source": [
        "**Calculating Scale of Big-O**  \n",
        "Insignificant terms drop out of Big-O notation.\n"
      ]
    },
    {
      "cell_type": "code",
      "metadata": {
        "id": "jox2jYQkBuIC",
        "colab_type": "code",
        "colab": {
          "base_uri": "https://localhost:8080/",
          "height": 69
        },
        "outputId": "b564d9f1-0923-443f-b59b-8ec08634a290"
      },
      "source": [
        "def print_once(lst):\n",
        "  for val in lst:\n",
        "    print(val)\n",
        "print_once(lst)\n",
        "# can you see how this growth is linear to the input?\n",
        "# O(n)"
      ],
      "execution_count": 15,
      "outputs": [
        {
          "output_type": "stream",
          "text": [
            "1\n",
            "2\n",
            "3\n"
          ],
          "name": "stdout"
        }
      ]
    },
    {
      "cell_type": "code",
      "metadata": {
        "id": "bXYHzUlnAaDS",
        "colab_type": "code",
        "colab": {
          "base_uri": "https://localhost:8080/",
          "height": 173
        },
        "outputId": "40835c5d-4c60-4379-d208-5aa2e81be57c"
      },
      "source": [
        "def print_3(lst):\n",
        "  for val in lst:\n",
        "    print(val)\n",
        "  \n",
        "  for val in lst:\n",
        "    print(val)\n",
        "  \n",
        "  for val in lst:\n",
        "    print(val)\n",
        "print_3(lst)"
      ],
      "execution_count": 16,
      "outputs": [
        {
          "output_type": "stream",
          "text": [
            "1\n",
            "2\n",
            "3\n",
            "1\n",
            "2\n",
            "3\n",
            "1\n",
            "2\n",
            "3\n"
          ],
          "name": "stdout"
        }
      ]
    },
    {
      "cell_type": "markdown",
      "metadata": {
        "id": "omJUvjjrC82y",
        "colab_type": "text"
      },
      "source": [
        "This algo will run 3 times for each n, so this becomes an order of 3(n). It is still linear.  \n",
        "More importantly, 3(infinity) is not really different than (infinity) and we can drop insignificant constants.\n",
        "\n",
        "So this too is O(n)"
      ]
    },
    {
      "cell_type": "code",
      "metadata": {
        "id": "-BKrkFVYD-w3",
        "colab_type": "code",
        "colab": {}
      },
      "source": [
        "def comp(lst):\n",
        "  '''\n",
        "  This function prints the first item O(1) it is a constant.\n",
        "  The is print the first 1/2 of the list O(n/2).\n",
        "  The print a string 10 times O(10) it is a constant.\n",
        "  '''\n",
        "  print(lst[0])\n",
        "\n",
        "  midpoint = len(lst)//2\n",
        "\n",
        "  for val in lst[:midpoint]:\n",
        "    print(val)\n",
        "  \n",
        "  for x in range(10):\n",
        "    print('number')"
      ],
      "execution_count": 17,
      "outputs": []
    },
    {
      "cell_type": "code",
      "metadata": {
        "id": "cSsSgjL6EyNx",
        "colab_type": "code",
        "colab": {
          "base_uri": "https://localhost:8080/",
          "height": 295
        },
        "outputId": "218ae252-a6e5-4cc8-9850-0c43063426b7"
      },
      "source": [
        "lst = [1, 2, 3, 4, 5, 6, 7, 8, 9, 10]\n",
        "comp(lst)"
      ],
      "execution_count": 18,
      "outputs": [
        {
          "output_type": "stream",
          "text": [
            "1\n",
            "1\n",
            "2\n",
            "3\n",
            "4\n",
            "5\n",
            "number\n",
            "number\n",
            "number\n",
            "number\n",
            "number\n",
            "number\n",
            "number\n",
            "number\n",
            "number\n",
            "number\n"
          ],
          "name": "stdout"
        }
      ]
    },
    {
      "cell_type": "markdown",
      "metadata": {
        "id": "9X34X7UVE72X",
        "colab_type": "text"
      },
      "source": [
        "**O(1 + n/2 + 10)**  \n",
        "An n gets larger and larger (scales up) you can  easily see how the 1 and the 10 quickly begin to mean nothing.\n",
        "\n",
        "And the //2 will begin to have no effect either.\n",
        "\n",
        "End up with O(n)"
      ]
    },
    {
      "cell_type": "markdown",
      "metadata": {
        "id": "NJgdVfI-Fw2R",
        "colab_type": "text"
      },
      "source": [
        "**Worst Case vs BEst Case**  \n",
        "Many times we are only concerned with the worst possible case of an algorithm, but in an interview setting its important to keep in mind that wors case and best case scenarios may be completely different Big-O times."
      ]
    },
    {
      "cell_type": "code",
      "metadata": {
        "id": "xmQ5ixtrGA7J",
        "colab_type": "code",
        "colab": {}
      },
      "source": [
        "def matcher(lst, match):\n",
        "  for item in lst:\n",
        "    if item == match:\n",
        "      return True\n",
        "  return False"
      ],
      "execution_count": 19,
      "outputs": []
    },
    {
      "cell_type": "code",
      "metadata": {
        "id": "z515tCjRGMMF",
        "colab_type": "code",
        "colab": {
          "base_uri": "https://localhost:8080/",
          "height": 34
        },
        "outputId": "84045c9f-8ec3-4e68-b1cb-0975f095164e"
      },
      "source": [
        "lst"
      ],
      "execution_count": 20,
      "outputs": [
        {
          "output_type": "execute_result",
          "data": {
            "text/plain": [
              "[1, 2, 3, 4, 5, 6, 7, 8, 9, 10]"
            ]
          },
          "metadata": {
            "tags": []
          },
          "execution_count": 20
        }
      ]
    },
    {
      "cell_type": "code",
      "metadata": {
        "id": "Cy_9vD-yGMs6",
        "colab_type": "code",
        "colab": {}
      },
      "source": [
        "# this is best case because item seeked is index 0. O(1) Best case becomes a constant.\n",
        "matcher(lst, 1)"
      ],
      "execution_count": null,
      "outputs": []
    },
    {
      "cell_type": "code",
      "metadata": {
        "id": "aL4i3JCKFi8-",
        "colab_type": "code",
        "colab": {
          "base_uri": "https://localhost:8080/",
          "height": 34
        },
        "outputId": "7ade5fb6-f30c-47fe-c72f-3ce9347d8eda"
      },
      "source": [
        "# worst case, entire list must be searched, n elements. O(n) Worst becomes linear.\n",
        "matcher(lst, 20)"
      ],
      "execution_count": 21,
      "outputs": [
        {
          "output_type": "execute_result",
          "data": {
            "text/plain": [
              "False"
            ]
          },
          "metadata": {
            "tags": []
          },
          "execution_count": 21
        }
      ]
    },
    {
      "cell_type": "markdown",
      "metadata": {
        "id": "25BTFmpBIL0Z",
        "colab_type": "text"
      },
      "source": [
        "**Space Complexity**  \n",
        "Also concerned with how much memory/space an algorithm uses. THe notation of space complexity is the same, but instead of checking the time of operations, we check the size of the allocation of memory."
      ]
    },
    {
      "cell_type": "code",
      "metadata": {
        "id": "oMjzCSR7IeL0",
        "colab_type": "code",
        "colab": {
          "base_uri": "https://localhost:8080/",
          "height": 191
        },
        "outputId": "ce96e606-2863-476b-bf86-f8ac8f3c27d9"
      },
      "source": [
        "def memory(n=10):\n",
        "  for x in range(n):  # TIME COMPLEXITY O(n)\n",
        "    print('Memory!')  # SPACE COMPLEXITY O(1)\n",
        "\n",
        "memory(10)"
      ],
      "execution_count": 22,
      "outputs": [
        {
          "output_type": "stream",
          "text": [
            "Memory!\n",
            "Memory!\n",
            "Memory!\n",
            "Memory!\n",
            "Memory!\n",
            "Memory!\n",
            "Memory!\n",
            "Memory!\n",
            "Memory!\n",
            "Memory!\n"
          ],
          "name": "stdout"
        }
      ]
    },
    {
      "cell_type": "markdown",
      "metadata": {
        "id": "MLSjyoyjIvna",
        "colab_type": "text"
      },
      "source": [
        "O(n) for time complexity but what about space complexity.  \n",
        "In memory it does not need to store 10 version of \"Memory!\" It only need store one string. O(1)"
      ]
    }
  ]
}